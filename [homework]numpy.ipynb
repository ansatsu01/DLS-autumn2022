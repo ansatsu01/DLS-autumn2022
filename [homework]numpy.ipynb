{
  "nbformat": 4,
  "nbformat_minor": 0,
  "metadata": {
    "colab": {
      "provenance": [],
      "collapsed_sections": [],
      "include_colab_link": true
    },
    "kernelspec": {
      "display_name": "Python 3",
      "language": "python",
      "name": "python3"
    },
    "language_info": {
      "codemirror_mode": {
        "name": "ipython",
        "version": 3
      },
      "file_extension": ".py",
      "mimetype": "text/x-python",
      "name": "python",
      "nbconvert_exporter": "python",
      "pygments_lexer": "ipython3",
      "version": "3.7.3"
    }
  },
  "cells": [
    {
      "cell_type": "markdown",
      "metadata": {
        "id": "view-in-github",
        "colab_type": "text"
      },
      "source": [
        "<a href=\"https://colab.research.google.com/github/ansatsu01/DLS-autumn2022/blob/Homeworks/%5Bhomework%5Dnumpy.ipynb\" target=\"_parent\"><img src=\"https://colab.research.google.com/assets/colab-badge.svg\" alt=\"Open In Colab\"/></a>"
      ]
    },
    {
      "cell_type": "markdown",
      "metadata": {
        "id": "KxIquH6GK7kt"
      },
      "source": [
        "<p style=\"align: center;\"><img align=center src=\"https://s8.hostingkartinok.com/uploads/images/2018/08/308b49fcfbc619d629fe4604bceb67ac.jpg\" width=500 height=450/></p>\n",
        "\n",
        "\n",
        "<h3 style=\"text-align: center;\"><b>Школа глубокого обучения ФПМИ МФТИ, осень 2021</b></h3>\n",
        "\n",
        "## Домашнее задание: библиотека Numpy и линейная алгебра\n"
      ]
    },
    {
      "cell_type": "code",
      "metadata": {
        "id": "YEJ8DQ4QK7kx"
      },
      "source": [
        "import numpy as np\n",
        "import random\n",
        "import scipy.stats as sps"
      ],
      "execution_count": null,
      "outputs": []
    },
    {
      "cell_type": "markdown",
      "metadata": {
        "id": "hYXhVX0eK7k2"
      },
      "source": [
        "### Задание 1\n",
        "В первой задаче вам предлагается перемножить две квадратные матрицы двумя способами -- без использования пакета ***numpy*** и с ним."
      ]
    },
    {
      "cell_type": "code",
      "metadata": {
        "id": "zJR8EANzK7k3",
        "colab": {
          "base_uri": "https://localhost:8080/"
        },
        "outputId": "8473213c-f0e5-4cc7-c266-850c3f9089cb"
      },
      "source": [
        "# Для генерации матриц используем фукнцию random -- она используется для генерации случайных объектов \n",
        "# функция sample создает случайную выборку. В качестве аргумента ей передается кортеж (i,j),  \n",
        "# здесь i -- число строк, j -- число столбцов.\n",
        "a = np.random.sample((100, 100))\n",
        "b = np.random.sample((100, 100))\n",
        "\n",
        "# Выведите размерность (ранг) каждой матрицы с помощью функции ndim.\n",
        "# Используйте функцию shape, что она вывела?\n",
        "\n",
        "# ========\n",
        "# Ваш код здесь\n",
        "# ========\n",
        "print(a)\n",
        "print(b)"
      ],
      "execution_count": null,
      "outputs": [
        {
          "output_type": "stream",
          "name": "stdout",
          "text": [
            "[[0.11452338 0.70582726 0.24121271 ... 0.46417394 0.10862126 0.1920369 ]\n",
            " [0.38221281 0.06384609 0.49317674 ... 0.91665808 0.12180678 0.47448688]\n",
            " [0.15691459 0.23229035 0.94006881 ... 0.59337741 0.04333896 0.00844559]\n",
            " ...\n",
            " [0.60797181 0.67157527 0.05823372 ... 0.6382001  0.42282045 0.83235631]\n",
            " [0.39055209 0.13847986 0.76189526 ... 0.86162667 0.52343787 0.57313301]\n",
            " [0.36855258 0.62738585 0.53149111 ... 0.17052278 0.09547357 0.75686928]]\n",
            "[[0.97346635 0.70300316 0.70500336 ... 0.60572058 0.3031926  0.02335393]\n",
            " [0.82853758 0.12093493 0.42228679 ... 0.03649967 0.62509146 0.58576024]\n",
            " [0.06856192 0.76774755 0.68020739 ... 0.27140043 0.65907376 0.94639527]\n",
            " ...\n",
            " [0.46677349 0.52643147 0.5627029  ... 0.47648494 0.7491413  0.58035603]\n",
            " [0.50838715 0.19285438 0.69589707 ... 0.72917156 0.51255062 0.88790683]\n",
            " [0.71336382 0.16208473 0.34488959 ... 0.78743901 0.68348889 0.11823679]]\n"
          ]
        }
      ]
    },
    {
      "cell_type": "code",
      "metadata": {
        "id": "bkWCI4TPK7k8"
      },
      "source": [
        "def mult(a, b):\n",
        "    \"\"\"  \n",
        "    a: list of \"size\" lists, each contains \"size\" floats --- первая матрица-аргумент\n",
        "    b: list of \"size\" lists, each contains \"size\" floats --- вторая матрица-аргумент\n",
        "    return c: list of \"size\" lists, each contains \"size\" floats --- матрица, являющаяся результатом умножения матриц a и b\n",
        "    \n",
        "    Функция принимает на вход две матрицы: a и b размерностью size x size\n",
        "    Возвращает матрицу их произведения a * b = c \n",
        "\n",
        "    Реализуйте умножение матриц без использования функций из пакета numpy\n",
        "  \n",
        "    \"\"\"\n",
        "    size = len(a)\n",
        "    result = [[0 for i in range(size)] for j in range(size)]\n",
        "    for i in range(size):\n",
        "      for j in range(size):\n",
        "        for k in range(size):\n",
        "          result[i][j] += a[i][k] * b[k][j]\n",
        "    return result;      \n",
        "    pass"
      ],
      "execution_count": null,
      "outputs": []
    },
    {
      "cell_type": "code",
      "metadata": {
        "id": "IIgYD1W5K7lB"
      },
      "source": [
        "def np_mult(a, b):\n",
        "    \"\"\"  \n",
        "    a: np.array[size, size]             --- первая матрица-аргумент\n",
        "    b: np.array[size, size] --- вторая матрица-аргумент\n",
        "    return c: np.array[size, size]       --- матрица, являющаяся результатом умножения матриц a и b\n",
        "    \n",
        "    Функция принимает на вход две матрицы: a и b размерностью size x size\n",
        "    Возвращает матрицу их произведения a * b = c \n",
        "\n",
        "    Реализуйте умножение матриц, используя функции из пакета numpy\n",
        "    \"\"\"\n",
        "    result = a @ b;\n",
        "    return result;\n",
        "    pass"
      ],
      "execution_count": null,
      "outputs": []
    },
    {
      "cell_type": "code",
      "metadata": {
        "id": "tktkYzUHK7lE",
        "colab": {
          "base_uri": "https://localhost:8080/"
        },
        "outputId": "918daf06-e54a-4da6-9698-e4d1e46b6065"
      },
      "source": [
        "%%time\n",
        "# засечем время работы функции без NumPy\n",
        "M1 = mult(a, b)"
      ],
      "execution_count": null,
      "outputs": [
        {
          "output_type": "stream",
          "name": "stdout",
          "text": [
            "CPU times: user 746 ms, sys: 6.65 ms, total: 753 ms\n",
            "Wall time: 754 ms\n"
          ]
        }
      ]
    },
    {
      "cell_type": "code",
      "metadata": {
        "id": "TmD0adgHK7lK",
        "colab": {
          "base_uri": "https://localhost:8080/"
        },
        "outputId": "de7932cf-a4e1-4c03-e41e-3c62143b8bf7"
      },
      "source": [
        "%%time\n",
        "# засечем время работы функции с NumPy\n",
        "M2 = np_mult(a, b)"
      ],
      "execution_count": null,
      "outputs": [
        {
          "output_type": "stream",
          "name": "stdout",
          "text": [
            "CPU times: user 1.17 ms, sys: 2.95 ms, total: 4.12 ms\n",
            "Wall time: 7.37 ms\n"
          ]
        }
      ]
    },
    {
      "cell_type": "code",
      "metadata": {
        "id": "oftqyANQK7lS"
      },
      "source": [
        "# проверим корректность\n",
        "assert np.allclose(np.array(M1), M2)"
      ],
      "execution_count": null,
      "outputs": []
    },
    {
      "cell_type": "markdown",
      "metadata": {
        "id": "2itTyTlcaHAu"
      },
      "source": [
        "### Задание 2"
      ]
    },
    {
      "cell_type": "markdown",
      "metadata": {
        "id": "BCemQSq-aEbO"
      },
      "source": [
        "Вам подаются на вход два вектора `a` и `b` в трехмерном пространстве. Заполните их случайными числами. Реализуйте их скалярное произведение с помощью  `NumPy` и без. Засеките время работы, как это показано в заданиях выше."
      ]
    },
    {
      "cell_type": "code",
      "metadata": {
        "id": "lWhr_gPSZ9o_",
        "colab": {
          "base_uri": "https://localhost:8080/"
        },
        "outputId": "0a57aec2-e517-4c97-b9b0-246cd6477e4c"
      },
      "source": [
        "a = np.random.sample((1, 3))\n",
        "a = list(a)[0]\n",
        "b = np.random.sample((1, 3))\n",
        "b = list(b)[0]\n",
        "print(a, b)"
      ],
      "execution_count": null,
      "outputs": [
        {
          "output_type": "stream",
          "name": "stdout",
          "text": [
            "[0.48869879 0.58124349 0.02562237] [0.33891889 0.12591568 0.88103839]\n"
          ]
        }
      ]
    },
    {
      "cell_type": "code",
      "metadata": {
        "id": "GjlkcHIWZ_ae"
      },
      "source": [
        "def scalar_product(v1, v2):\n",
        "    \"\"\"  \n",
        "    a: np.array[, n] --- первая матрица-аргумент длиной n\n",
        "    b: np.array[, n] --- вторая матрица-аргумент длиной n\n",
        "    return c: float  --- результат скалярного произведения векторов a и b\n",
        "\n",
        "    Функция принимает на вход два вектора длиной n\n",
        "    Возвращает число, равное их скалярному произведению a x b = c \n",
        "\n",
        "    Реализуйте скалярное умножение векторов, не используя функции из пакета numpy\n",
        "\n",
        "    \"\"\" \n",
        "    result = sum([v1[i]*v2[i] for i in range(3)])\n",
        "    return result\n",
        "    pass"
      ],
      "execution_count": null,
      "outputs": []
    },
    {
      "cell_type": "code",
      "metadata": {
        "id": "C2M-OAp5Z_6a"
      },
      "source": [
        "def np_scalar_product(a,b):\n",
        "    \"\"\"  \n",
        "    a: np.array[, n] --- первая матрица-аргумент\n",
        "    b: np.array[, n] --- вторая матрица-аргумент\n",
        "    return c: float  --- результат скалярного произведения векторов a и b\n",
        "\n",
        "    Функция принимает на вход два вектора длиной n\n",
        "    Возвращает число, равное их скалярному произведению a x b = c \n",
        "\n",
        "    Реализуйте скалярное умножение векторов, используя функции из пакета numpy\n",
        "    \"\"\" \n",
        "    return sum(a*b)\n",
        "    pass"
      ],
      "execution_count": null,
      "outputs": []
    },
    {
      "cell_type": "code",
      "metadata": {
        "id": "BOQfYf-2aCQJ",
        "scrolled": true,
        "colab": {
          "base_uri": "https://localhost:8080/"
        },
        "outputId": "617281af-702b-4015-c896-567fc88caf19"
      },
      "source": [
        "%time product_1 = scalar_product(a,b)\n",
        "%time product_2 = np_scalar_product(a,b)\n",
        "\n",
        "# проверим корректность:\n",
        "assert np.allclose(product_1, product_2)"
      ],
      "execution_count": null,
      "outputs": [
        {
          "output_type": "stream",
          "name": "stdout",
          "text": [
            "CPU times: user 52 µs, sys: 0 ns, total: 52 µs\n",
            "Wall time: 57.5 µs\n",
            "CPU times: user 35 µs, sys: 0 ns, total: 35 µs\n",
            "Wall time: 39.6 µs\n"
          ]
        }
      ]
    },
    {
      "cell_type": "markdown",
      "metadata": {
        "id": "NHaHu6q1K7mH"
      },
      "source": [
        "Почему методы ***numpy*** оказываются эффективнее? Что вы можете сказать о скорости вычислений в NumPy?"
      ]
    },
    {
      "cell_type": "markdown",
      "metadata": {
        "id": "PqsTAb1M7TTQ"
      },
      "source": [
        "------------------"
      ]
    },
    {
      "cell_type": "markdown",
      "metadata": {
        "id": "_A3p2s4eK7mI"
      },
      "source": [
        "**Ответ:** Скорость вычислений вектоных и матричных операций в NumPy сильно превосходит скорость вычислений без него, по большей части потому, что функции numpy работаю с массивами данных одного типа (числовыми), это позволяет реализовать встроенные функции numpy на C/C++, что, конечно, делает numpy быстрее (функции, которые вызывает Numpy для работы с числовыми данными, сильно оптимизированы именно под эти задачи, а сам Python просто гоняет интерпретатор по циклу в таких операциях, что является чуть ли не самым большим замедлением в работе интерпретатора)."
      ]
    },
    {
      "cell_type": "markdown",
      "metadata": {
        "id": "mJXeUuznK7lm"
      },
      "source": [
        "### Задание 3\n",
        "Напишите функцию, которая находим сумму четных диагональных элементов квадратной матрицы. Если таких элементов нет, то вывести `0`. Используйте библиотеку Numpy"
      ]
    },
    {
      "cell_type": "code",
      "metadata": {
        "id": "qYNiKbK47TTS"
      },
      "source": [
        "def np_diag_2k(a):\n",
        "    \"\"\"  \n",
        "    a: np.array[m, m] --- первая матрица-аргумент\n",
        "    return c: float   --- сумма элементов массива а, принадлежащих диагонали и являющимися четными\n",
        "\n",
        "    Функция принимает на вход квадратную матрицу размерностью m x m и возвращает число,\n",
        "    равное сумме четных диагональных элементов этой квадратной матрицы\n",
        "\n",
        "    В реализации этой функции необходимо использовать функционал пакета numpy\n",
        "\n",
        "    \"\"\" \n",
        "    for i in range(len(a)):\n",
        "      if a[i,i] % 2 != 0:\n",
        "        a[i,i] = 0\n",
        "    return np.trace(a)    \n",
        "    pass"
      ],
      "execution_count": null,
      "outputs": []
    },
    {
      "cell_type": "code",
      "metadata": {
        "id": "BdInn8_j7TTU",
        "colab": {
          "base_uri": "https://localhost:8080/"
        },
        "outputId": "dbcbcc42-7414-4c95-bca1-a45b526eba12"
      },
      "source": [
        "# зададим некоторую квадратную матрицу\n",
        "a = np.random.randint(1, 10, size=(5, 5))\n",
        "a"
      ],
      "execution_count": null,
      "outputs": [
        {
          "output_type": "execute_result",
          "data": {
            "text/plain": [
              "array([[2, 6, 7, 6, 2],\n",
              "       [7, 1, 3, 3, 2],\n",
              "       [5, 7, 7, 3, 5],\n",
              "       [2, 6, 6, 6, 6],\n",
              "       [9, 7, 8, 3, 4]])"
            ]
          },
          "metadata": {},
          "execution_count": 24
        }
      ]
    },
    {
      "cell_type": "code",
      "metadata": {
        "id": "ZR97Nt9N7TTW",
        "colab": {
          "base_uri": "https://localhost:8080/"
        },
        "outputId": "b9fbcd3b-af90-4c08-8b4d-dd2103a6b8a5"
      },
      "source": [
        "%%time\n",
        "# засечем время работы функции с NumPy\n",
        "np_diag_2k(a)"
      ],
      "execution_count": null,
      "outputs": [
        {
          "output_type": "stream",
          "name": "stdout",
          "text": [
            "CPU times: user 92 µs, sys: 0 ns, total: 92 µs\n",
            "Wall time: 96.8 µs\n"
          ]
        },
        {
          "output_type": "execute_result",
          "data": {
            "text/plain": [
              "12"
            ]
          },
          "metadata": {},
          "execution_count": 25
        }
      ]
    },
    {
      "cell_type": "markdown",
      "metadata": {
        "id": "cdcRkFzQ7TTY"
      },
      "source": [
        "### Задание 4\n",
        "​\n",
        "На вход дан двумерный массив $X$. Напишите функцию, которая для каждой строчки $(x = (x_1, x_2, \\ldots, x_n)$ массива $X$ строит строчку $s = (s_1, s_2, \\ldots, s_n)$,  где $s_k=x_1+...+x_k$, а затем выдаёт массив из построенных строчек. Используйте библиотеку <code>numpy</code> (вам поможет функция <code>cumsum</code>). Выходом функции должен быть двумерный <code>numpy</code>-массив той же формы, что и $X$.\n",
        "​ "
      ]
    },
    {
      "cell_type": "code",
      "metadata": {
        "id": "REgL39ksK7lr"
      },
      "source": [
        "def cumsum(a):\n",
        "    \"\"\"  \n",
        "    A: np.array[num_row, num_column]        --- матрица-аргумент\n",
        "    return S: np.array[num_row, num_column] --- выходная матрица кумулятивных сумм\n",
        "\n",
        "    Функция принимает на вход матрицу A размерностью n x m и возвращает \n",
        "    матрицу с той же размерностью n x m, i-ая строчка которой есть последовательность \n",
        "    кумулятивных сумм элементов i-ой строки матрицы A\n",
        "\n",
        "    В реализации этой функции необходимо использовать функционал пакета numpy\n",
        "\n",
        "    \"\"\" \n",
        "    result = np.zeros_like(a)\n",
        "    n = len(a)\n",
        "    for i in range(n):\n",
        "      result[i] = a[i].cumsum()\n",
        "    return result  \n",
        "    \n"
      ],
      "execution_count": null,
      "outputs": []
    },
    {
      "cell_type": "code",
      "metadata": {
        "id": "HcVN8MagK7lw",
        "colab": {
          "base_uri": "https://localhost:8080/"
        },
        "outputId": "547fa7c0-4c7f-4879-a26e-18d6711ab1fb"
      },
      "source": [
        "# зададим некоторую последовательность и проверим ее на вашей функции. \n",
        "A = sps.uniform.rvs(size=10**3) \n",
        "%time S2 = cumsum(A)"
      ],
      "execution_count": null,
      "outputs": [
        {
          "output_type": "stream",
          "name": "stdout",
          "text": [
            "CPU times: user 2.97 ms, sys: 0 ns, total: 2.97 ms\n",
            "Wall time: 4.01 ms\n"
          ]
        }
      ]
    },
    {
      "cell_type": "markdown",
      "metadata": {
        "id": "teVCPWZmK7l5"
      },
      "source": [
        "### Задание 5\n",
        "\n",
        "​\n",
        "Задан двумерный массив $X$. Для каждой строчки массива X необходимо сделать следующее преобразование.\n",
        "\n",
        "Пусть дана строчка x. Необходимо построить новый массив, где все элементы с нечетными индексами требуется заменить на число a (значение по умолчанию a=1). Все элементы с четными индексами нужно возвести в куб. Затем записать элементы в обратном порядке относительно их позиций. В конце требуется слить массив x с преобразованным x и вывести.\n",
        "\n",
        "Напишите функцию, которая выполняет данное преобразование для каждой строчки двумерного массива X. Массив X при этом должен остаться без изменений.\n",
        "\n",
        "Используйте библиотеку numpy.\n",
        "\n",
        "Пример:\n",
        "$X = [[100,200,300,400,500]]$ -> $[[100,a,300,a,500]]$ -> $[[500^3,a,300^3,a,100^3]]$ -> склеиваем -> $[[100,200,300,400,500,500^3,a,300^3,a,100^3]]$\n",
        "\n",
        "​"
      ]
    },
    {
      "cell_type": "code",
      "metadata": {
        "id": "0hmcvfDVK7l-"
      },
      "source": [
        "from copy import copy\n",
        "def np_transformation(x, a=1):\n",
        "    \"\"\"  \n",
        "    X: np.array[num_row, num_column]          --- матрица-аргумент\n",
        "    a: float                                  --- значение для преобразования нечетных элементов строк в X\n",
        "    return S: np.array[num_row, num_column*2] --- матрица, где строки являются \n",
        "    сконкатенированными строками изначальной матрицы X со строками, являющимися их преобразованиями\n",
        "\n",
        "    Функция принимает на вход матрицу X размерностью n x m, число a и \n",
        "    возвращает  матрицу с размерностью n x m*2, i-ая строчка которой является склеенной\n",
        "    i-ой строкой X с ее преобразованием ее строки transformation(X[i]), записанном в обратном порядке, \n",
        "    где преобразование для числа k определено как:\n",
        "    transformation(k) = a if ind(k) % 2 == 0 else k**3\n",
        "\n",
        "    В реализации этой функции необходимо использовать функционал пакета numpy\n",
        "\n",
        "    \"\"\"\n",
        "    tr = x.copy()\n",
        "    for i in range(len(x)):\n",
        "      tr[i] = [a if k % 2 == 0 else x[i][k]**3 for k in range(len(x))][::-1]\n",
        "    result = np.hstack((x, tr))  \n",
        "    return result;  \n",
        "    pass"
      ],
      "execution_count": null,
      "outputs": []
    },
    {
      "cell_type": "code",
      "metadata": {
        "id": "r2-JLMhxK7mE",
        "scrolled": true,
        "colab": {
          "base_uri": "https://localhost:8080/"
        },
        "outputId": "602e060a-8305-4496-bce6-c7b0c5c9515b"
      },
      "source": [
        "X = np.array([[i for i in range(1, 10, 2)]])\n",
        "%time S2 = np_transformation(X, 5)"
      ],
      "execution_count": null,
      "outputs": [
        {
          "output_type": "stream",
          "name": "stdout",
          "text": [
            "CPU times: user 94 µs, sys: 10 µs, total: 104 µs\n",
            "Wall time: 109 µs\n"
          ]
        }
      ]
    },
    {
      "cell_type": "markdown",
      "metadata": {
        "id": "qa521fce7TTk"
      },
      "source": [
        "### Задание 6\n",
        "Написать функцию для кодирование массива (Run-length encoding). Все подряд идущие повторения элементов функция сжимает в один элемент и считает количество повторений этого элемента. Функция возвращает кортеж из двух векторов одинаковой длины. Первый содержит элементы, а второй — сколько раз их нужно повторить. \n",
        "\n",
        "Пример: encode(np.array([1, 2, 2, 3, 3, 1, 1, 5, 5, 2, 3, 3])) = (np.array[1, 2, 3, 1, 5, 2, 3]), np.array[1, 2, 2, 2, 2, 1, 2])"
      ]
    },
    {
      "cell_type": "code",
      "metadata": {
        "id": "4wD7OSVv7TTl"
      },
      "source": [
        "def np_encode(a):\n",
        "    \"\"\"  \n",
        "    a: np.array[, n] --- вектор-аргумент длиной n\n",
        "    return (elems, repetitions): (np.array, np.array) --- выходной кортеж из вектора \n",
        "    элементов и вектора их количеств в подряд идущих повторениях\n",
        "\n",
        "    Функция принимает на вход вектор a длиной n, добавляет в вектор elem сжатые \n",
        "    в один элемент подряд идущие повторения элементов входного вектора a, в вектор \n",
        "    repetitions добавляет длины последовательностей подряд идущих повторений. \n",
        "    Затем функция возвращает кортеж векторов (elems, repetitions).\n",
        "\n",
        "    В реализации этой функции необходимо использовать функционал пакета numpy\n",
        "\n",
        "    \"\"\" \n",
        "    pass"
      ],
      "execution_count": null,
      "outputs": []
    },
    {
      "cell_type": "code",
      "metadata": {
        "id": "P7YxojET7TTn"
      },
      "source": [
        "X = np.array([1, 2, 2, 3, 3, 1, 1, 5, 5, 2, 3, 3])\n",
        "\n",
        "%time x, num = np_encode(X)"
      ],
      "execution_count": null,
      "outputs": []
    }
  ]
}